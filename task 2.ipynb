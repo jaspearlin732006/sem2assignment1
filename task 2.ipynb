{
 "cells": [
  {
   "cell_type": "code",
   "execution_count": 26,
   "id": "eba86935-a328-4d16-86e5-1b87e9bf4dd2",
   "metadata": {},
   "outputs": [
    {
     "name": "stdin",
     "output_type": "stream",
     "text": [
      "please enter english marks:  88\n",
      "pleae enter math marks:  100\n",
      "please enter  computer marks:  100\n",
      "please enter physics marks:  97\n",
      "please enter chemistry marks:  99\n"
     ]
    },
    {
     "name": "stdout",
     "output_type": "stream",
     "text": [
      "Total Marks =484.00\n",
      "Marks percentage =96.80\n",
      "A grade\n"
     ]
    }
   ],
   "source": [
    "english=float(input(\"please enter english marks: \"))\n",
    "math=float(input(\"pleae enter math marks: \"))\n",
    "computer=float(input(\"please enter  computer marks: \"))\n",
    "physics=float(input(\"please enter physics marks: \"))\n",
    "chemistry=float(input(\"please enter chemistry marks: \"))\n",
    "total=english+math+computer+physics+chemistry\n",
    "percentage=(total/500)*100\n",
    "\n",
    "print(\"Total Marks =%.2f\" %total)\n",
    "print(\"Marks percentage =%.2f\" %percentage)\n",
    "\n",
    "if(percentage>=90):\n",
    "    print(\"A grade\")\n",
    "elif(percentage>=80):\n",
    "    print(\"B grade\")\n",
    "elif(percentage>=70):\n",
    "    print(\"c grade\")\n",
    "elif(percentage>=60):\n",
    "    print(\"D grade\")\n",
    "elif(percentage>=40):\n",
    "    print(\"E grade\")\n",
    "else:\n",
    "    print(\"Fail\")\n",
    "    \n",
    "    \n",
    "    "
   ]
  },
  {
   "cell_type": "code",
   "execution_count": null,
   "id": "790f8756-a202-4cdb-b2c8-b101ecfd4677",
   "metadata": {},
   "outputs": [],
   "source": []
  }
 ],
 "metadata": {
  "kernelspec": {
   "display_name": "Python 3 (ipykernel)",
   "language": "python",
   "name": "python3"
  },
  "language_info": {
   "codemirror_mode": {
    "name": "ipython",
    "version": 3
   },
   "file_extension": ".py",
   "mimetype": "text/x-python",
   "name": "python",
   "nbconvert_exporter": "python",
   "pygments_lexer": "ipython3",
   "version": "3.9.18"
  }
 },
 "nbformat": 4,
 "nbformat_minor": 5
}
